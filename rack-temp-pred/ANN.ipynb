{
 "cells": [
  {
   "cell_type": "code",
   "execution_count": 1,
   "metadata": {},
   "outputs": [],
   "source": [
    "import math\n",
    "import numpy as np\n",
    "import pandas as pd\n",
    "import matplotlib.pyplot as plt\n",
    "import tensorflow as tf\n",
    "\n",
    "from window import WindowGenerator"
   ]
  },
  {
   "cell_type": "markdown",
   "metadata": {},
   "source": [
    "# Inspect and cleanup"
   ]
  },
  {
   "cell_type": "markdown",
   "metadata": {},
   "source": [
    "## Read datasets"
   ]
  },
  {
   "cell_type": "code",
   "execution_count": 8,
   "metadata": {},
   "outputs": [],
   "source": [
    "# inlets\n",
    "inlets = pd.read_csv(\"datasets/all_inlets.csv\")\n",
    "inlets = inlets.drop([\"Case_id\", \"Time\"], axis=1)\n",
    "inlets = inlets.add_prefix(\"inlet_\")\n",
    "\n",
    "# outlets\n",
    "outlets = pd.read_csv(\"datasets/all_outlets.csv\")\n",
    "outlets = outlets.drop([\"Case_id\", \"Time\", \"fan_speed\"], axis=1)\n",
    "outlets = outlets.add_prefix(\"outlet_\")"
   ]
  },
  {
   "cell_type": "markdown",
   "metadata": {},
   "source": [
    "## Visualize data"
   ]
  },
  {
   "cell_type": "markdown",
   "metadata": {},
   "source": [
    "### Inlet"
   ]
  },
  {
   "cell_type": "code",
   "execution_count": 9,
   "metadata": {},
   "outputs": [
    {
     "name": "stdout",
     "output_type": "stream",
     "text": [
      "1752\n"
     ]
    },
    {
     "data": {
      "text/html": [
       "<div>\n",
       "<style scoped>\n",
       "    .dataframe tbody tr th:only-of-type {\n",
       "        vertical-align: middle;\n",
       "    }\n",
       "\n",
       "    .dataframe tbody tr th {\n",
       "        vertical-align: top;\n",
       "    }\n",
       "\n",
       "    .dataframe thead th {\n",
       "        text-align: right;\n",
       "    }\n",
       "</style>\n",
       "<table border=\"1\" class=\"dataframe\">\n",
       "  <thead>\n",
       "    <tr style=\"text-align: right;\">\n",
       "      <th></th>\n",
       "      <th>inlet_fan_speed</th>\n",
       "      <th>inlet_1</th>\n",
       "      <th>inlet_2</th>\n",
       "      <th>inlet_3</th>\n",
       "      <th>inlet_4</th>\n",
       "      <th>inlet_5</th>\n",
       "      <th>inlet_6</th>\n",
       "      <th>inlet_7</th>\n",
       "      <th>inlet_8</th>\n",
       "      <th>inlet_9</th>\n",
       "      <th>...</th>\n",
       "      <th>inlet_126</th>\n",
       "      <th>inlet_127</th>\n",
       "      <th>inlet_128</th>\n",
       "      <th>inlet_129</th>\n",
       "      <th>inlet_130</th>\n",
       "      <th>inlet_131</th>\n",
       "      <th>inlet_132</th>\n",
       "      <th>inlet_133</th>\n",
       "      <th>inlet_134</th>\n",
       "      <th>inlet_135</th>\n",
       "    </tr>\n",
       "  </thead>\n",
       "  <tbody>\n",
       "    <tr>\n",
       "      <th>0</th>\n",
       "      <td>50.0</td>\n",
       "      <td>25.92</td>\n",
       "      <td>25.003333</td>\n",
       "      <td>24.086667</td>\n",
       "      <td>23.17</td>\n",
       "      <td>20.38</td>\n",
       "      <td>18.145</td>\n",
       "      <td>15.91</td>\n",
       "      <td>15.155</td>\n",
       "      <td>14.40</td>\n",
       "      <td>...</td>\n",
       "      <td>21.36</td>\n",
       "      <td>26.54</td>\n",
       "      <td>26.576667</td>\n",
       "      <td>26.613333</td>\n",
       "      <td>26.65</td>\n",
       "      <td>26.03</td>\n",
       "      <td>24.605</td>\n",
       "      <td>23.18</td>\n",
       "      <td>26.090</td>\n",
       "      <td>29.00</td>\n",
       "    </tr>\n",
       "    <tr>\n",
       "      <th>1</th>\n",
       "      <td>50.0</td>\n",
       "      <td>26.08</td>\n",
       "      <td>25.150000</td>\n",
       "      <td>24.220000</td>\n",
       "      <td>23.29</td>\n",
       "      <td>20.23</td>\n",
       "      <td>18.650</td>\n",
       "      <td>17.07</td>\n",
       "      <td>15.745</td>\n",
       "      <td>14.42</td>\n",
       "      <td>...</td>\n",
       "      <td>21.56</td>\n",
       "      <td>26.07</td>\n",
       "      <td>26.900000</td>\n",
       "      <td>27.730000</td>\n",
       "      <td>28.56</td>\n",
       "      <td>27.20</td>\n",
       "      <td>25.775</td>\n",
       "      <td>24.35</td>\n",
       "      <td>26.745</td>\n",
       "      <td>29.14</td>\n",
       "    </tr>\n",
       "    <tr>\n",
       "      <th>2</th>\n",
       "      <td>50.0</td>\n",
       "      <td>25.85</td>\n",
       "      <td>25.053333</td>\n",
       "      <td>24.256667</td>\n",
       "      <td>23.46</td>\n",
       "      <td>19.84</td>\n",
       "      <td>18.070</td>\n",
       "      <td>16.30</td>\n",
       "      <td>15.370</td>\n",
       "      <td>14.44</td>\n",
       "      <td>...</td>\n",
       "      <td>20.99</td>\n",
       "      <td>26.33</td>\n",
       "      <td>26.636667</td>\n",
       "      <td>26.943333</td>\n",
       "      <td>27.25</td>\n",
       "      <td>26.01</td>\n",
       "      <td>24.855</td>\n",
       "      <td>23.70</td>\n",
       "      <td>26.355</td>\n",
       "      <td>29.01</td>\n",
       "    </tr>\n",
       "    <tr>\n",
       "      <th>3</th>\n",
       "      <td>50.0</td>\n",
       "      <td>25.78</td>\n",
       "      <td>24.846667</td>\n",
       "      <td>23.913333</td>\n",
       "      <td>22.98</td>\n",
       "      <td>18.99</td>\n",
       "      <td>17.465</td>\n",
       "      <td>15.94</td>\n",
       "      <td>15.220</td>\n",
       "      <td>14.50</td>\n",
       "      <td>...</td>\n",
       "      <td>21.04</td>\n",
       "      <td>25.99</td>\n",
       "      <td>26.213333</td>\n",
       "      <td>26.436667</td>\n",
       "      <td>26.66</td>\n",
       "      <td>26.17</td>\n",
       "      <td>24.775</td>\n",
       "      <td>23.38</td>\n",
       "      <td>26.165</td>\n",
       "      <td>28.95</td>\n",
       "    </tr>\n",
       "    <tr>\n",
       "      <th>4</th>\n",
       "      <td>50.0</td>\n",
       "      <td>25.80</td>\n",
       "      <td>24.776667</td>\n",
       "      <td>23.753333</td>\n",
       "      <td>22.73</td>\n",
       "      <td>20.04</td>\n",
       "      <td>18.170</td>\n",
       "      <td>16.30</td>\n",
       "      <td>15.500</td>\n",
       "      <td>14.70</td>\n",
       "      <td>...</td>\n",
       "      <td>21.29</td>\n",
       "      <td>26.74</td>\n",
       "      <td>26.960000</td>\n",
       "      <td>27.180000</td>\n",
       "      <td>27.40</td>\n",
       "      <td>25.97</td>\n",
       "      <td>24.775</td>\n",
       "      <td>23.58</td>\n",
       "      <td>26.290</td>\n",
       "      <td>29.00</td>\n",
       "    </tr>\n",
       "  </tbody>\n",
       "</table>\n",
       "<p>5 rows × 136 columns</p>\n",
       "</div>"
      ],
      "text/plain": [
       "   inlet_fan_speed  inlet_1    inlet_2    inlet_3  inlet_4  inlet_5  inlet_6  \\\n",
       "0             50.0    25.92  25.003333  24.086667    23.17    20.38   18.145   \n",
       "1             50.0    26.08  25.150000  24.220000    23.29    20.23   18.650   \n",
       "2             50.0    25.85  25.053333  24.256667    23.46    19.84   18.070   \n",
       "3             50.0    25.78  24.846667  23.913333    22.98    18.99   17.465   \n",
       "4             50.0    25.80  24.776667  23.753333    22.73    20.04   18.170   \n",
       "\n",
       "   inlet_7  inlet_8  inlet_9  ...  inlet_126  inlet_127  inlet_128  inlet_129  \\\n",
       "0    15.91   15.155    14.40  ...      21.36      26.54  26.576667  26.613333   \n",
       "1    17.07   15.745    14.42  ...      21.56      26.07  26.900000  27.730000   \n",
       "2    16.30   15.370    14.44  ...      20.99      26.33  26.636667  26.943333   \n",
       "3    15.94   15.220    14.50  ...      21.04      25.99  26.213333  26.436667   \n",
       "4    16.30   15.500    14.70  ...      21.29      26.74  26.960000  27.180000   \n",
       "\n",
       "   inlet_130  inlet_131  inlet_132  inlet_133  inlet_134  inlet_135  \n",
       "0      26.65      26.03     24.605      23.18     26.090      29.00  \n",
       "1      28.56      27.20     25.775      24.35     26.745      29.14  \n",
       "2      27.25      26.01     24.855      23.70     26.355      29.01  \n",
       "3      26.66      26.17     24.775      23.38     26.165      28.95  \n",
       "4      27.40      25.97     24.775      23.58     26.290      29.00  \n",
       "\n",
       "[5 rows x 136 columns]"
      ]
     },
     "execution_count": 9,
     "metadata": {},
     "output_type": "execute_result"
    }
   ],
   "source": [
    "print(len(inlets))\n",
    "inlets.head()"
   ]
  },
  {
   "cell_type": "code",
   "execution_count": 42,
   "metadata": {},
   "outputs": [
    {
     "data": {
      "text/plain": [
       "<matplotlib.legend.Legend at 0x1326acd50>"
      ]
     },
     "execution_count": 42,
     "metadata": {},
     "output_type": "execute_result"
    },
    {
     "data": {
      "image/png": "[encoded data removed]",
      "text/plain": [
       "<Figure size 864x576 with 1 Axes>"
      ]
     },
     "metadata": {
      "needs_background": "light"
     },
     "output_type": "display_data"
    }
   ],
   "source": [
    "fig, ax = plt.subplots()\n",
    "\n",
    "inlets['inlet_fan_speed'].plot(title=\"Inlet Fan Speed\", figsize=(12,8), xlabel=\"Time\", ylabel=\"Fan Speed\", label=\"Fan Speed\")\n",
    "\n",
    "mean = inlets['inlet_fan_speed'].mean()\n",
    "plt.axhline(mean, color='r', linestyle='dashed', label='Mean')\n",
    "ax.text(0, mean+1, \"{:.2f}\".format(mean), color='r')\n",
    "\n",
    "plt.legend()"
   ]
  },
  {
   "cell_type": "code",
   "execution_count": 43,
   "metadata": {},
   "outputs": [
    {
     "data": {
      "text/plain": [
       "<matplotlib.legend.Legend at 0x132722050>"
      ]
     },
     "execution_count": 43,
     "metadata": {},
     "output_type": "execute_result"
    },
    {
     "data": {
      "image/png": "[encoded data removed]",
      "text/plain": [
       "<Figure size 864x576 with 1 Axes>"
      ]
     },
     "metadata": {
      "needs_background": "light"
     },
     "output_type": "display_data"
    }
   ],
   "source": [
    "fig, ax = plt.subplots()\n",
    "\n",
    "inlets.drop(\"inlet_fan_speed\", axis=1).mean(axis=1).plot(title=\"Average Inlet temperature (1-135)\", figsize=(12,8), xlabel=\"Time\", ylabel=\"Average temperature\", label=\"Average temperature\")\n",
    "\n",
    "mean = inlets.drop(\"inlet_fan_speed\", axis=1).mean().mean()\n",
    "plt.axhline(mean, color='r', linestyle='dashed', label='Mean')\n",
    "ax.text(0, mean+0.05, \"{:.2f}\".format(mean), color='r')\n",
    "\n",
    "plt.legend()"
   ]
  },
  {
   "cell_type": "markdown",
   "metadata": {},
   "source": [
    "### Outlet"
   ]
  },
  {
   "cell_type": "code",
   "execution_count": 10,
   "metadata": {},
   "outputs": [
    {
     "name": "stdout",
     "output_type": "stream",
     "text": [
      "1752\n"
     ]
    },
    {
     "data": {
      "text/html": [
       "<div>\n",
       "<style scoped>\n",
       "    .dataframe tbody tr th:only-of-type {\n",
       "        vertical-align: middle;\n",
       "    }\n",
       "\n",
       "    .dataframe tbody tr th {\n",
       "        vertical-align: top;\n",
       "    }\n",
       "\n",
       "    .dataframe thead th {\n",
       "        text-align: right;\n",
       "    }\n",
       "</style>\n",
       "<table border=\"1\" class=\"dataframe\">\n",
       "  <thead>\n",
       "    <tr style=\"text-align: right;\">\n",
       "      <th></th>\n",
       "      <th>outlet_1</th>\n",
       "      <th>outlet_2</th>\n",
       "      <th>outlet_3</th>\n",
       "      <th>outlet_4</th>\n",
       "      <th>outlet_5</th>\n",
       "      <th>outlet_6</th>\n",
       "      <th>outlet_7</th>\n",
       "      <th>outlet_8</th>\n",
       "      <th>outlet_9</th>\n",
       "      <th>outlet_10</th>\n",
       "      <th>...</th>\n",
       "      <th>outlet_126</th>\n",
       "      <th>outlet_127</th>\n",
       "      <th>outlet_128</th>\n",
       "      <th>outlet_129</th>\n",
       "      <th>outlet_130</th>\n",
       "      <th>outlet_131</th>\n",
       "      <th>outlet_132</th>\n",
       "      <th>outlet_133</th>\n",
       "      <th>outlet_134</th>\n",
       "      <th>outlet_135</th>\n",
       "    </tr>\n",
       "  </thead>\n",
       "  <tbody>\n",
       "    <tr>\n",
       "      <th>0</th>\n",
       "      <td>25.92</td>\n",
       "      <td>25.003333</td>\n",
       "      <td>24.086667</td>\n",
       "      <td>23.17</td>\n",
       "      <td>20.38</td>\n",
       "      <td>18.145</td>\n",
       "      <td>15.91</td>\n",
       "      <td>15.155</td>\n",
       "      <td>14.40</td>\n",
       "      <td>25.85</td>\n",
       "      <td>...</td>\n",
       "      <td>21.36</td>\n",
       "      <td>26.54</td>\n",
       "      <td>26.576667</td>\n",
       "      <td>26.613333</td>\n",
       "      <td>26.65</td>\n",
       "      <td>26.03</td>\n",
       "      <td>24.605</td>\n",
       "      <td>23.18</td>\n",
       "      <td>26.090</td>\n",
       "      <td>29.00</td>\n",
       "    </tr>\n",
       "    <tr>\n",
       "      <th>1</th>\n",
       "      <td>26.08</td>\n",
       "      <td>25.150000</td>\n",
       "      <td>24.220000</td>\n",
       "      <td>23.29</td>\n",
       "      <td>20.23</td>\n",
       "      <td>18.650</td>\n",
       "      <td>17.07</td>\n",
       "      <td>15.745</td>\n",
       "      <td>14.42</td>\n",
       "      <td>25.49</td>\n",
       "      <td>...</td>\n",
       "      <td>21.56</td>\n",
       "      <td>26.07</td>\n",
       "      <td>26.900000</td>\n",
       "      <td>27.730000</td>\n",
       "      <td>28.56</td>\n",
       "      <td>27.20</td>\n",
       "      <td>25.775</td>\n",
       "      <td>24.35</td>\n",
       "      <td>26.745</td>\n",
       "      <td>29.14</td>\n",
       "    </tr>\n",
       "    <tr>\n",
       "      <th>2</th>\n",
       "      <td>25.85</td>\n",
       "      <td>25.053333</td>\n",
       "      <td>24.256667</td>\n",
       "      <td>23.46</td>\n",
       "      <td>19.84</td>\n",
       "      <td>18.070</td>\n",
       "      <td>16.30</td>\n",
       "      <td>15.370</td>\n",
       "      <td>14.44</td>\n",
       "      <td>25.27</td>\n",
       "      <td>...</td>\n",
       "      <td>20.99</td>\n",
       "      <td>26.33</td>\n",
       "      <td>26.636667</td>\n",
       "      <td>26.943333</td>\n",
       "      <td>27.25</td>\n",
       "      <td>26.01</td>\n",
       "      <td>24.855</td>\n",
       "      <td>23.70</td>\n",
       "      <td>26.355</td>\n",
       "      <td>29.01</td>\n",
       "    </tr>\n",
       "    <tr>\n",
       "      <th>3</th>\n",
       "      <td>25.78</td>\n",
       "      <td>24.846667</td>\n",
       "      <td>23.913333</td>\n",
       "      <td>22.98</td>\n",
       "      <td>18.99</td>\n",
       "      <td>17.465</td>\n",
       "      <td>15.94</td>\n",
       "      <td>15.220</td>\n",
       "      <td>14.50</td>\n",
       "      <td>25.13</td>\n",
       "      <td>...</td>\n",
       "      <td>21.04</td>\n",
       "      <td>25.99</td>\n",
       "      <td>26.213333</td>\n",
       "      <td>26.436667</td>\n",
       "      <td>26.66</td>\n",
       "      <td>26.17</td>\n",
       "      <td>24.775</td>\n",
       "      <td>23.38</td>\n",
       "      <td>26.165</td>\n",
       "      <td>28.95</td>\n",
       "    </tr>\n",
       "    <tr>\n",
       "      <th>4</th>\n",
       "      <td>25.80</td>\n",
       "      <td>24.776667</td>\n",
       "      <td>23.753333</td>\n",
       "      <td>22.73</td>\n",
       "      <td>20.04</td>\n",
       "      <td>18.170</td>\n",
       "      <td>16.30</td>\n",
       "      <td>15.500</td>\n",
       "      <td>14.70</td>\n",
       "      <td>25.47</td>\n",
       "      <td>...</td>\n",
       "      <td>21.29</td>\n",
       "      <td>26.74</td>\n",
       "      <td>26.960000</td>\n",
       "      <td>27.180000</td>\n",
       "      <td>27.40</td>\n",
       "      <td>25.97</td>\n",
       "      <td>24.775</td>\n",
       "      <td>23.58</td>\n",
       "      <td>26.290</td>\n",
       "      <td>29.00</td>\n",
       "    </tr>\n",
       "  </tbody>\n",
       "</table>\n",
       "<p>5 rows × 135 columns</p>\n",
       "</div>"
      ],
      "text/plain": [
       "   outlet_1   outlet_2   outlet_3  outlet_4  outlet_5  outlet_6  outlet_7  \\\n",
       "0     25.92  25.003333  24.086667     23.17     20.38    18.145     15.91   \n",
       "1     26.08  25.150000  24.220000     23.29     20.23    18.650     17.07   \n",
       "2     25.85  25.053333  24.256667     23.46     19.84    18.070     16.30   \n",
       "3     25.78  24.846667  23.913333     22.98     18.99    17.465     15.94   \n",
       "4     25.80  24.776667  23.753333     22.73     20.04    18.170     16.30   \n",
       "\n",
       "   outlet_8  outlet_9  outlet_10  ...  outlet_126  outlet_127  outlet_128  \\\n",
       "0    15.155     14.40      25.85  ...       21.36       26.54   26.576667   \n",
       "1    15.745     14.42      25.49  ...       21.56       26.07   26.900000   \n",
       "2    15.370     14.44      25.27  ...       20.99       26.33   26.636667   \n",
       "3    15.220     14.50      25.13  ...       21.04       25.99   26.213333   \n",
       "4    15.500     14.70      25.47  ...       21.29       26.74   26.960000   \n",
       "\n",
       "   outlet_129  outlet_130  outlet_131  outlet_132  outlet_133  outlet_134  \\\n",
       "0   26.613333       26.65       26.03      24.605       23.18      26.090   \n",
       "1   27.730000       28.56       27.20      25.775       24.35      26.745   \n",
       "2   26.943333       27.25       26.01      24.855       23.70      26.355   \n",
       "3   26.436667       26.66       26.17      24.775       23.38      26.165   \n",
       "4   27.180000       27.40       25.97      24.775       23.58      26.290   \n",
       "\n",
       "   outlet_135  \n",
       "0       29.00  \n",
       "1       29.14  \n",
       "2       29.01  \n",
       "3       28.95  \n",
       "4       29.00  \n",
       "\n",
       "[5 rows x 135 columns]"
      ]
     },
     "execution_count": 10,
     "metadata": {},
     "output_type": "execute_result"
    }
   ],
   "source": [
    "print(len(outlets))\n",
    "outlets.head()"
   ]
  },
  {
   "cell_type": "code",
   "execution_count": 45,
   "metadata": {},
   "outputs": [
    {
     "data": {
      "text/plain": [
       "<matplotlib.legend.Legend at 0x1328f4e90>"
      ]
     },
     "execution_count": 45,
     "metadata": {},
     "output_type": "execute_result"
    },
    {
     "data": {
      "image/png": "[encoded data removed]",
      "text/plain": [
       "<Figure size 864x576 with 1 Axes>"
      ]
     },
     "metadata": {
      "needs_background": "light"
     },
     "output_type": "display_data"
    }
   ],
   "source": [
    "fig, ax = plt.subplots()\n",
    "\n",
    "outlets['outlet_fan_speed'].plot(title=\"Outlet Fan Speed\", figsize=(12,8), xlabel=\"Time\", ylabel=\"Fan Speed\")\n",
    "\n",
    "mean = outlets['outlet_fan_speed'].mean()\n",
    "plt.axhline(mean, color='r', linestyle='dashed', label='Mean')\n",
    "ax.text(0, mean+1, \"{:.2f}\".format(mean), color='r')\n",
    "\n",
    "plt.legend()"
   ]
  },
  {
   "cell_type": "code",
   "execution_count": 46,
   "metadata": {},
   "outputs": [
    {
     "data": {
      "text/plain": [
       "<matplotlib.legend.Legend at 0x13292a390>"
      ]
     },
     "execution_count": 46,
     "metadata": {},
     "output_type": "execute_result"
    },
    {
     "data": {
      "image/png": "[encoded data removed]",
      "text/plain": [
       "<Figure size 936x576 with 1 Axes>"
      ]
     },
     "metadata": {
      "needs_background": "light"
     },
     "output_type": "display_data"
    }
   ],
   "source": [
    "fig, ax = plt.subplots()\n",
    "\n",
    "outlets.drop(\"outlet_fan_speed\", axis=1).mean(axis=1).plot(\n",
    "    title=\"Temperature (1-135)\",\n",
    "    figsize=(13,8),\n",
    "    xlabel=\"Time\",\n",
    "    ylabel=\"Average temperature\",\n",
    "    label=\"Average Temperature\"\n",
    ")\n",
    "\n",
    "mean = outlets.drop(\"outlet_fan_speed\", axis=1).mean().mean()\n",
    "\n",
    "plt.axhline(mean, color='r', linestyle='dashed', label='Mean')\n",
    "ax.text(0, mean+0.05, \"{:.2f}\".format(mean),color='r')\n",
    "\n",
    "plt.legend()"
   ]
  },
  {
   "cell_type": "markdown",
   "metadata": {},
   "source": [
    "# Preprocessing"
   ]
  },
  {
   "cell_type": "markdown",
   "metadata": {},
   "source": [
    "We will use the outlet temperatures as the label columns, because it's what we would like to predict."
   ]
  },
  {
   "cell_type": "code",
   "execution_count": 11,
   "metadata": {},
   "outputs": [],
   "source": [
    "df = pd.concat([inlets, outlets], axis=1)\n",
    "column_indices = {name: i for i, name in enumerate(df.columns)}"
   ]
  },
  {
   "cell_type": "code",
   "execution_count": 13,
   "metadata": {},
   "outputs": [
    {
     "data": {
      "text/plain": [
       "array(['outlet_1', 'outlet_2', 'outlet_3', 'outlet_4', 'outlet_5',\n",
       "       'outlet_6', 'outlet_7', 'outlet_8', 'outlet_9', 'outlet_10',\n",
       "       'outlet_11', 'outlet_12', 'outlet_13', 'outlet_14', 'outlet_15',\n",
       "       'outlet_16', 'outlet_17', 'outlet_18', 'outlet_19', 'outlet_20',\n",
       "       'outlet_21', 'outlet_22', 'outlet_23', 'outlet_24', 'outlet_25',\n",
       "       'outlet_26', 'outlet_27', 'outlet_28', 'outlet_29', 'outlet_30',\n",
       "       'outlet_31', 'outlet_32', 'outlet_33', 'outlet_34', 'outlet_35',\n",
       "       'outlet_36', 'outlet_37', 'outlet_38', 'outlet_39', 'outlet_40',\n",
       "       'outlet_41', 'outlet_42', 'outlet_43', 'outlet_44', 'outlet_45',\n",
       "       'outlet_46', 'outlet_47', 'outlet_48', 'outlet_49', 'outlet_50',\n",
       "       'outlet_51', 'outlet_52', 'outlet_53', 'outlet_54', 'outlet_55',\n",
       "       'outlet_56', 'outlet_57', 'outlet_58', 'outlet_59', 'outlet_60',\n",
       "       'outlet_61', 'outlet_62', 'outlet_63', 'outlet_64', 'outlet_65',\n",
       "       'outlet_66', 'outlet_67', 'outlet_68', 'outlet_69', 'outlet_70',\n",
       "       'outlet_71', 'outlet_72', 'outlet_73', 'outlet_74', 'outlet_75',\n",
       "       'outlet_76', 'outlet_77', 'outlet_78', 'outlet_79', 'outlet_80',\n",
       "       'outlet_81', 'outlet_82', 'outlet_83', 'outlet_84', 'outlet_85',\n",
       "       'outlet_86', 'outlet_87', 'outlet_88', 'outlet_89', 'outlet_90',\n",
       "       'outlet_91', 'outlet_92', 'outlet_93', 'outlet_94', 'outlet_95',\n",
       "       'outlet_96', 'outlet_97', 'outlet_98', 'outlet_99', 'outlet_100',\n",
       "       'outlet_101', 'outlet_102', 'outlet_103', 'outlet_104',\n",
       "       'outlet_105', 'outlet_106', 'outlet_107', 'outlet_108',\n",
       "       'outlet_109', 'outlet_110', 'outlet_111', 'outlet_112',\n",
       "       'outlet_113', 'outlet_114', 'outlet_115', 'outlet_116',\n",
       "       'outlet_117', 'outlet_118', 'outlet_119', 'outlet_120',\n",
       "       'outlet_121', 'outlet_122', 'outlet_123', 'outlet_124',\n",
       "       'outlet_125', 'outlet_126', 'outlet_127', 'outlet_128',\n",
       "       'outlet_129', 'outlet_130', 'outlet_131', 'outlet_132',\n",
       "       'outlet_133', 'outlet_134', 'outlet_135'], dtype=object)"
      ]
     },
     "execution_count": 13,
     "metadata": {},
     "output_type": "execute_result"
    }
   ],
   "source": [
    "label_columns = outlets.columns.values\n",
    "label_columns"
   ]
  },
  {
   "cell_type": "markdown",
   "metadata": {},
   "source": [
    "## Split the data"
   ]
  },
  {
   "cell_type": "code",
   "execution_count": 14,
   "metadata": {},
   "outputs": [
    {
     "name": "stdout",
     "output_type": "stream",
     "text": [
      "271\n"
     ]
    }
   ],
   "source": [
    "n = len(df)\n",
    "\n",
    "train_df = df[0:int(n*0.7)]         # 70% for training\n",
    "val_df = df[int(n*0.7):int(n*0.9)]  # 20% for validation\n",
    "test_df = df[int(n*0.9):]           # 10% for testing\n",
    "\n",
    "num_features = df.shape[1]\n",
    "print(num_features)"
   ]
  },
  {
   "cell_type": "markdown",
   "metadata": {},
   "source": [
    "## Data normalization"
   ]
  },
  {
   "cell_type": "code",
   "execution_count": 15,
   "metadata": {},
   "outputs": [],
   "source": [
    "train_mean = train_df.mean()\n",
    "train_std = train_df.std()\n",
    "\n",
    "train_df = (train_df - train_mean) / train_std\n",
    "val_df = (val_df - train_mean) / train_std\n",
    "test_df = (test_df - train_mean) / train_std"
   ]
  },
  {
   "cell_type": "markdown",
   "metadata": {},
   "source": [
    "## Window"
   ]
  },
  {
   "cell_type": "code",
   "execution_count": 18,
   "metadata": {},
   "outputs": [],
   "source": [
    "OUT_STEPS = 120 # 10 minutes into the future (given each time step is 5s)"
   ]
  },
  {
   "cell_type": "code",
   "execution_count": 20,
   "metadata": {},
   "outputs": [
    {
     "data": {
      "text/plain": [
       "Total window size: 145\n",
       "Input indices: [0 1 2 3 4 5 6 7 8 9]\n",
       "Label indices: [ 10  11  12  13  14  15  16  17  18  19  20  21  22  23  24  25  26  27\n",
       "  28  29  30  31  32  33  34  35  36  37  38  39  40  41  42  43  44  45\n",
       "  46  47  48  49  50  51  52  53  54  55  56  57  58  59  60  61  62  63\n",
       "  64  65  66  67  68  69  70  71  72  73  74  75  76  77  78  79  80  81\n",
       "  82  83  84  85  86  87  88  89  90  91  92  93  94  95  96  97  98  99\n",
       " 100 101 102 103 104 105 106 107 108 109 110 111 112 113 114 115 116 117\n",
       " 118 119 120 121 122 123 124 125 126 127 128 129 130 131 132 133 134 135\n",
       " 136 137 138 139 140 141 142 143 144]\n",
       "Label column name(s): ['outlet_1' 'outlet_2' 'outlet_3' 'outlet_4' 'outlet_5' 'outlet_6'\n",
       " 'outlet_7' 'outlet_8' 'outlet_9' 'outlet_10' 'outlet_11' 'outlet_12'\n",
       " 'outlet_13' 'outlet_14' 'outlet_15' 'outlet_16' 'outlet_17' 'outlet_18'\n",
       " 'outlet_19' 'outlet_20' 'outlet_21' 'outlet_22' 'outlet_23' 'outlet_24'\n",
       " 'outlet_25' 'outlet_26' 'outlet_27' 'outlet_28' 'outlet_29' 'outlet_30'\n",
       " 'outlet_31' 'outlet_32' 'outlet_33' 'outlet_34' 'outlet_35' 'outlet_36'\n",
       " 'outlet_37' 'outlet_38' 'outlet_39' 'outlet_40' 'outlet_41' 'outlet_42'\n",
       " 'outlet_43' 'outlet_44' 'outlet_45' 'outlet_46' 'outlet_47' 'outlet_48'\n",
       " 'outlet_49' 'outlet_50' 'outlet_51' 'outlet_52' 'outlet_53' 'outlet_54'\n",
       " 'outlet_55' 'outlet_56' 'outlet_57' 'outlet_58' 'outlet_59' 'outlet_60'\n",
       " 'outlet_61' 'outlet_62' 'outlet_63' 'outlet_64' 'outlet_65' 'outlet_66'\n",
       " 'outlet_67' 'outlet_68' 'outlet_69' 'outlet_70' 'outlet_71' 'outlet_72'\n",
       " 'outlet_73' 'outlet_74' 'outlet_75' 'outlet_76' 'outlet_77' 'outlet_78'\n",
       " 'outlet_79' 'outlet_80' 'outlet_81' 'outlet_82' 'outlet_83' 'outlet_84'\n",
       " 'outlet_85' 'outlet_86' 'outlet_87' 'outlet_88' 'outlet_89' 'outlet_90'\n",
       " 'outlet_91' 'outlet_92' 'outlet_93' 'outlet_94' 'outlet_95' 'outlet_96'\n",
       " 'outlet_97' 'outlet_98' 'outlet_99' 'outlet_100' 'outlet_101'\n",
       " 'outlet_102' 'outlet_103' 'outlet_104' 'outlet_105' 'outlet_106'\n",
       " 'outlet_107' 'outlet_108' 'outlet_109' 'outlet_110' 'outlet_111'\n",
       " 'outlet_112' 'outlet_113' 'outlet_114' 'outlet_115' 'outlet_116'\n",
       " 'outlet_117' 'outlet_118' 'outlet_119' 'outlet_120' 'outlet_121'\n",
       " 'outlet_122' 'outlet_123' 'outlet_124' 'outlet_125' 'outlet_126'\n",
       " 'outlet_127' 'outlet_128' 'outlet_129' 'outlet_130' 'outlet_131'\n",
       " 'outlet_132' 'outlet_133' 'outlet_134' 'outlet_135']"
      ]
     },
     "execution_count": 20,
     "metadata": {},
     "output_type": "execute_result"
    }
   ],
   "source": [
    "window = WindowGenerator(input_width=10, label_width=OUT_STEPS, shift=OUT_STEPS, train_df=train_df,\n",
    "                         val_df=val_df, test_df=test_df, label_columns=label_columns)\n",
    "\n",
    "window\n"
   ]
  },
  {
   "cell_type": "markdown",
   "metadata": {},
   "source": [
    "# Model creation"
   ]
  },
  {
   "cell_type": "code",
   "execution_count": 46,
   "metadata": {},
   "outputs": [],
   "source": [
    "input_size = 1\n",
    "output_size = 135\n",
    "hidden_layer_units = 10"
   ]
  },
  {
   "cell_type": "code",
   "execution_count": 47,
   "metadata": {},
   "outputs": [],
   "source": [
    "model = tf.keras.Sequential([\n",
    "    tf.keras.Input(shape=(input_size,)),\n",
    "    tf.keras.layers.Dense(hidden_layer_units, activation='relu'), # hidden layer\n",
    "    tf.keras.layers.Dense(output_size) # output layer\n",
    "])"
   ]
  },
  {
   "cell_type": "code",
   "execution_count": 48,
   "metadata": {},
   "outputs": [],
   "source": [
    "model.compile(optimizer='adam', loss='mse', metrics=['accuracy'])"
   ]
  },
  {
   "cell_type": "code",
   "execution_count": 49,
   "metadata": {},
   "outputs": [
    {
     "data": {
      "image/png": "[encoded data removed]",
      "text/plain": [
       "<IPython.core.display.Image object>"
      ]
     },
     "execution_count": 49,
     "metadata": {},
     "output_type": "execute_result"
    }
   ],
   "source": [
    "# model.summary()\n",
    "tf.keras.utils.plot_model(model, \"model.png\", show_shapes=True)"
   ]
  },
  {
   "cell_type": "code",
   "execution_count": 50,
   "metadata": {},
   "outputs": [
    {
     "name": "stdout",
     "output_type": "stream",
     "text": [
      "Epoch 1/124\n",
      "50/50 [==============================] - 1s 6ms/step - loss: 525.5995 - accuracy: 0.0000e+00 - val_loss: 525.8961 - val_accuracy: 0.0000e+00\n",
      "Epoch 2/124\n",
      "50/50 [==============================] - 0s 2ms/step - loss: 516.7891 - accuracy: 0.0019 - val_loss: 513.4100 - val_accuracy: 0.0000e+00\n",
      "Epoch 3/124\n",
      "50/50 [==============================] - 0s 2ms/step - loss: 499.9601 - accuracy: 0.0019 - val_loss: 492.3601 - val_accuracy: 0.0000e+00\n",
      "Epoch 4/124\n",
      "50/50 [==============================] - 0s 2ms/step - loss: 475.0583 - accuracy: 0.0019 - val_loss: 463.7353 - val_accuracy: 0.0000e+00\n",
      "Epoch 5/124\n",
      "50/50 [==============================] - 0s 2ms/step - loss: 443.0143 - accuracy: 0.0019 - val_loss: 428.6721 - val_accuracy: 0.0000e+00\n",
      "Epoch 6/124\n",
      "50/50 [==============================] - 0s 2ms/step - loss: 405.4853 - accuracy: 0.0019 - val_loss: 389.3012 - val_accuracy: 0.0000e+00\n",
      "Epoch 7/124\n",
      "50/50 [==============================] - 0s 2ms/step - loss: 364.1589 - accuracy: 0.0019 - val_loss: 346.7706 - val_accuracy: 0.0000e+00\n",
      "Epoch 8/124\n",
      "50/50 [==============================] - 0s 2ms/step - loss: 321.2310 - accuracy: 0.0019 - val_loss: 303.5779 - val_accuracy: 0.0000e+00\n",
      "Epoch 9/124\n",
      "50/50 [==============================] - 0s 2ms/step - loss: 278.3119 - accuracy: 0.0019 - val_loss: 261.2440 - val_accuracy: 0.0000e+00\n",
      "Epoch 10/124\n",
      "50/50 [==============================] - 0s 3ms/step - loss: 237.1948 - accuracy: 0.0019 - val_loss: 221.5105 - val_accuracy: 0.0000e+00\n",
      "Epoch 11/124\n",
      "50/50 [==============================] - 0s 2ms/step - loss: 199.3069 - accuracy: 0.0019 - val_loss: 185.3195 - val_accuracy: 0.0000e+00\n",
      "Epoch 12/124\n",
      "50/50 [==============================] - 0s 2ms/step - loss: 165.5535 - accuracy: 0.0019 - val_loss: 153.5729 - val_accuracy: 0.0000e+00\n",
      "Epoch 13/124\n",
      "50/50 [==============================] - 0s 2ms/step - loss: 136.5628 - accuracy: 0.0019 - val_loss: 126.6710 - val_accuracy: 0.0000e+00\n",
      "Epoch 14/124\n",
      "50/50 [==============================] - 0s 2ms/step - loss: 112.4507 - accuracy: 0.0019 - val_loss: 104.3867 - val_accuracy: 0.0000e+00\n",
      "Epoch 15/124\n",
      "50/50 [==============================] - 0s 2ms/step - loss: 92.8676 - accuracy: 0.0019 - val_loss: 86.6472 - val_accuracy: 0.0000e+00\n",
      "Epoch 16/124\n",
      "50/50 [==============================] - 0s 2ms/step - loss: 77.4355 - accuracy: 0.0019 - val_loss: 72.4653 - val_accuracy: 0.0000e+00\n",
      "Epoch 17/124\n",
      "50/50 [==============================] - 0s 2ms/step - loss: 65.2546 - accuracy: 0.5844 - val_loss: 61.2282 - val_accuracy: 0.6761\n",
      "Epoch 18/124\n",
      "50/50 [==============================] - 0s 2ms/step - loss: 55.6092 - accuracy: 0.6834 - val_loss: 52.3310 - val_accuracy: 0.6761\n",
      "Epoch 19/124\n",
      "50/50 [==============================] - 0s 2ms/step - loss: 47.8975 - accuracy: 0.6834 - val_loss: 45.1002 - val_accuracy: 0.6761\n",
      "Epoch 20/124\n",
      "50/50 [==============================] - 0s 2ms/step - loss: 41.6227 - accuracy: 0.6834 - val_loss: 39.1522 - val_accuracy: 0.6761\n",
      "Epoch 21/124\n",
      "50/50 [==============================] - 0s 4ms/step - loss: 36.3729 - accuracy: 0.6834 - val_loss: 34.2411 - val_accuracy: 0.6761\n",
      "Epoch 22/124\n",
      "50/50 [==============================] - 0s 5ms/step - loss: 31.9596 - accuracy: 0.6834 - val_loss: 30.0085 - val_accuracy: 0.6761\n",
      "Epoch 23/124\n",
      "50/50 [==============================] - 0s 3ms/step - loss: 28.2103 - accuracy: 0.6834 - val_loss: 26.3987 - val_accuracy: 0.6761\n",
      "Epoch 24/124\n",
      "50/50 [==============================] - 0s 3ms/step - loss: 24.9530 - accuracy: 0.6834 - val_loss: 23.3157 - val_accuracy: 0.6761\n",
      "Epoch 25/124\n",
      "50/50 [==============================] - 0s 3ms/step - loss: 22.1155 - accuracy: 0.6834 - val_loss: 20.6327 - val_accuracy: 0.6761\n",
      "Epoch 26/124\n",
      "50/50 [==============================] - 0s 6ms/step - loss: 19.6433 - accuracy: 0.6834 - val_loss: 18.3070 - val_accuracy: 0.6761\n",
      "Epoch 27/124\n",
      "50/50 [==============================] - 0s 4ms/step - loss: 17.4844 - accuracy: 0.6834 - val_loss: 16.2645 - val_accuracy: 0.6761\n",
      "Epoch 28/124\n",
      "50/50 [==============================] - 0s 4ms/step - loss: 15.5948 - accuracy: 0.6834 - val_loss: 14.5015 - val_accuracy: 0.6761\n",
      "Epoch 29/124\n",
      "50/50 [==============================] - 0s 3ms/step - loss: 13.9255 - accuracy: 0.6834 - val_loss: 12.9618 - val_accuracy: 0.6761\n",
      "Epoch 30/124\n",
      "50/50 [==============================] - 0s 3ms/step - loss: 12.4905 - accuracy: 0.6834 - val_loss: 11.6296 - val_accuracy: 0.6761\n",
      "Epoch 31/124\n",
      "50/50 [==============================] - 0s 3ms/step - loss: 11.2319 - accuracy: 0.6834 - val_loss: 10.4768 - val_accuracy: 0.6761\n",
      "Epoch 32/124\n",
      "50/50 [==============================] - 0s 3ms/step - loss: 10.1451 - accuracy: 0.6834 - val_loss: 9.4766 - val_accuracy: 0.6761\n",
      "Epoch 33/124\n",
      "50/50 [==============================] - 0s 3ms/step - loss: 9.2030 - accuracy: 0.6834 - val_loss: 8.6347 - val_accuracy: 0.6761\n",
      "Epoch 34/124\n",
      "50/50 [==============================] - 0s 4ms/step - loss: 8.4004 - accuracy: 0.6834 - val_loss: 7.9022 - val_accuracy: 0.6761\n",
      "Epoch 35/124\n",
      "50/50 [==============================] - 0s 4ms/step - loss: 7.7058 - accuracy: 0.6834 - val_loss: 7.2831 - val_accuracy: 0.6761\n",
      "Epoch 36/124\n",
      "50/50 [==============================] - 0s 3ms/step - loss: 7.1236 - accuracy: 0.6834 - val_loss: 6.7635 - val_accuracy: 0.6761\n",
      "Epoch 37/124\n",
      "50/50 [==============================] - 0s 3ms/step - loss: 6.6318 - accuracy: 0.6834 - val_loss: 6.3235 - val_accuracy: 0.6761\n",
      "Epoch 38/124\n",
      "50/50 [==============================] - 0s 3ms/step - loss: 6.2177 - accuracy: 0.6834 - val_loss: 5.9623 - val_accuracy: 0.6761\n",
      "Epoch 39/124\n",
      "50/50 [==============================] - 0s 3ms/step - loss: 5.8709 - accuracy: 0.6834 - val_loss: 5.6583 - val_accuracy: 0.6761\n",
      "Epoch 40/124\n",
      "50/50 [==============================] - 0s 3ms/step - loss: 5.5874 - accuracy: 0.6834 - val_loss: 5.4057 - val_accuracy: 0.6761\n",
      "Epoch 41/124\n",
      "50/50 [==============================] - 0s 3ms/step - loss: 5.3518 - accuracy: 0.6834 - val_loss: 5.2058 - val_accuracy: 0.6761\n",
      "Epoch 42/124\n",
      "50/50 [==============================] - 0s 3ms/step - loss: 5.1586 - accuracy: 0.6834 - val_loss: 5.0403 - val_accuracy: 0.6761\n",
      "Epoch 43/124\n",
      "50/50 [==============================] - 0s 3ms/step - loss: 4.9988 - accuracy: 0.6834 - val_loss: 4.9065 - val_accuracy: 0.6761\n",
      "Epoch 44/124\n",
      "50/50 [==============================] - 0s 3ms/step - loss: 4.8728 - accuracy: 0.6834 - val_loss: 4.7963 - val_accuracy: 0.6761\n",
      "Epoch 45/124\n",
      "50/50 [==============================] - 0s 4ms/step - loss: 4.7697 - accuracy: 0.6834 - val_loss: 4.7151 - val_accuracy: 0.6761\n",
      "Epoch 46/124\n",
      "50/50 [==============================] - 0s 3ms/step - loss: 4.6888 - accuracy: 0.6834 - val_loss: 4.6484 - val_accuracy: 0.6761\n",
      "Epoch 47/124\n",
      "50/50 [==============================] - 0s 4ms/step - loss: 4.6235 - accuracy: 0.6834 - val_loss: 4.5963 - val_accuracy: 0.6761\n",
      "Epoch 48/124\n",
      "50/50 [==============================] - 0s 3ms/step - loss: 4.5742 - accuracy: 0.6834 - val_loss: 4.5541 - val_accuracy: 0.6761\n",
      "Epoch 49/124\n",
      "50/50 [==============================] - 0s 3ms/step - loss: 4.5359 - accuracy: 0.6834 - val_loss: 4.5240 - val_accuracy: 0.6761\n",
      "Epoch 50/124\n",
      "50/50 [==============================] - 0s 3ms/step - loss: 4.5058 - accuracy: 0.6834 - val_loss: 4.4982 - val_accuracy: 0.6761\n",
      "Epoch 51/124\n",
      "50/50 [==============================] - 0s 3ms/step - loss: 4.4815 - accuracy: 0.6834 - val_loss: 4.4782 - val_accuracy: 0.6761\n",
      "Epoch 52/124\n",
      "50/50 [==============================] - 0s 3ms/step - loss: 4.4631 - accuracy: 0.6834 - val_loss: 4.4623 - val_accuracy: 0.6761\n",
      "Epoch 53/124\n",
      "50/50 [==============================] - 0s 3ms/step - loss: 4.4494 - accuracy: 0.6834 - val_loss: 4.4502 - val_accuracy: 0.6761\n",
      "Epoch 54/124\n",
      "50/50 [==============================] - 0s 3ms/step - loss: 4.4366 - accuracy: 0.6834 - val_loss: 4.4436 - val_accuracy: 0.6761\n",
      "Epoch 55/124\n",
      "50/50 [==============================] - 0s 3ms/step - loss: 4.4267 - accuracy: 0.6834 - val_loss: 4.4331 - val_accuracy: 0.6761\n",
      "Epoch 56/124\n",
      "50/50 [==============================] - 0s 7ms/step - loss: 4.4189 - accuracy: 0.6834 - val_loss: 4.4268 - val_accuracy: 0.6761\n",
      "Epoch 57/124\n",
      "50/50 [==============================] - 0s 5ms/step - loss: 4.4107 - accuracy: 0.6834 - val_loss: 4.4240 - val_accuracy: 0.6761\n",
      "Epoch 58/124\n",
      "50/50 [==============================] - 0s 3ms/step - loss: 4.4038 - accuracy: 0.6834 - val_loss: 4.4191 - val_accuracy: 0.6761\n",
      "Epoch 59/124\n",
      "50/50 [==============================] - 0s 3ms/step - loss: 4.3986 - accuracy: 0.6834 - val_loss: 4.4144 - val_accuracy: 0.6761\n",
      "Epoch 60/124\n",
      "50/50 [==============================] - 0s 3ms/step - loss: 4.3945 - accuracy: 0.6834 - val_loss: 4.4130 - val_accuracy: 0.6761\n",
      "Epoch 61/124\n",
      "50/50 [==============================] - 0s 3ms/step - loss: 4.3854 - accuracy: 0.6834 - val_loss: 4.3988 - val_accuracy: 0.6761\n",
      "Epoch 62/124\n",
      "50/50 [==============================] - 0s 4ms/step - loss: 4.3806 - accuracy: 0.6834 - val_loss: 4.3969 - val_accuracy: 0.6761\n",
      "Epoch 63/124\n",
      "50/50 [==============================] - 0s 3ms/step - loss: 4.3748 - accuracy: 0.6834 - val_loss: 4.3925 - val_accuracy: 0.6761\n",
      "Epoch 64/124\n",
      "50/50 [==============================] - 0s 2ms/step - loss: 4.3696 - accuracy: 0.6834 - val_loss: 4.3884 - val_accuracy: 0.6761\n",
      "Epoch 65/124\n",
      "50/50 [==============================] - 0s 3ms/step - loss: 4.3636 - accuracy: 0.6834 - val_loss: 4.3806 - val_accuracy: 0.6761\n",
      "Epoch 66/124\n",
      "50/50 [==============================] - 0s 2ms/step - loss: 4.3560 - accuracy: 0.6834 - val_loss: 4.3766 - val_accuracy: 0.6761\n",
      "Epoch 67/124\n",
      "50/50 [==============================] - 0s 3ms/step - loss: 4.3506 - accuracy: 0.6834 - val_loss: 4.3679 - val_accuracy: 0.6761\n",
      "Epoch 68/124\n",
      "50/50 [==============================] - 0s 5ms/step - loss: 4.3422 - accuracy: 0.6834 - val_loss: 4.3617 - val_accuracy: 0.6761\n",
      "Epoch 69/124\n",
      "50/50 [==============================] - 0s 3ms/step - loss: 4.3342 - accuracy: 0.6834 - val_loss: 4.3567 - val_accuracy: 0.6761\n",
      "Epoch 70/124\n",
      "50/50 [==============================] - 0s 3ms/step - loss: 4.3272 - accuracy: 0.6834 - val_loss: 4.3497 - val_accuracy: 0.6761\n",
      "Epoch 71/124\n",
      "50/50 [==============================] - 0s 3ms/step - loss: 4.3192 - accuracy: 0.6834 - val_loss: 4.3389 - val_accuracy: 0.6761\n",
      "Epoch 72/124\n",
      "50/50 [==============================] - 0s 2ms/step - loss: 4.3097 - accuracy: 0.6834 - val_loss: 4.3264 - val_accuracy: 0.6761\n",
      "Epoch 73/124\n",
      "50/50 [==============================] - 0s 3ms/step - loss: 4.3012 - accuracy: 0.6834 - val_loss: 4.3196 - val_accuracy: 0.6761\n",
      "Epoch 74/124\n",
      "50/50 [==============================] - 0s 3ms/step - loss: 4.2915 - accuracy: 0.6834 - val_loss: 4.3099 - val_accuracy: 0.6761\n",
      "Epoch 75/124\n",
      "50/50 [==============================] - 0s 2ms/step - loss: 4.2815 - accuracy: 0.6834 - val_loss: 4.3049 - val_accuracy: 0.6761\n",
      "Epoch 76/124\n",
      "50/50 [==============================] - 0s 3ms/step - loss: 4.2697 - accuracy: 0.6834 - val_loss: 4.2910 - val_accuracy: 0.6761\n",
      "Epoch 77/124\n",
      "50/50 [==============================] - 0s 3ms/step - loss: 4.2587 - accuracy: 0.6834 - val_loss: 4.2794 - val_accuracy: 0.6761\n",
      "Epoch 78/124\n",
      "50/50 [==============================] - 0s 2ms/step - loss: 4.2475 - accuracy: 0.6834 - val_loss: 4.2694 - val_accuracy: 0.6761\n",
      "Epoch 79/124\n",
      "50/50 [==============================] - 0s 3ms/step - loss: 4.2340 - accuracy: 0.6834 - val_loss: 4.2538 - val_accuracy: 0.6761\n",
      "Epoch 80/124\n",
      "50/50 [==============================] - 0s 3ms/step - loss: 4.2203 - accuracy: 0.6834 - val_loss: 4.2422 - val_accuracy: 0.6761\n",
      "Epoch 81/124\n",
      "50/50 [==============================] - 0s 3ms/step - loss: 4.2052 - accuracy: 0.6834 - val_loss: 4.2272 - val_accuracy: 0.6761\n",
      "Epoch 82/124\n",
      "50/50 [==============================] - 0s 3ms/step - loss: 4.1897 - accuracy: 0.6834 - val_loss: 4.2140 - val_accuracy: 0.6761\n",
      "Epoch 83/124\n",
      "50/50 [==============================] - 0s 3ms/step - loss: 4.1723 - accuracy: 0.6834 - val_loss: 4.1979 - val_accuracy: 0.6761\n",
      "Epoch 84/124\n",
      "50/50 [==============================] - 0s 3ms/step - loss: 4.1566 - accuracy: 0.6834 - val_loss: 4.1830 - val_accuracy: 0.6761\n",
      "Epoch 85/124\n",
      "50/50 [==============================] - 0s 2ms/step - loss: 4.1386 - accuracy: 0.6834 - val_loss: 4.1601 - val_accuracy: 0.6761\n",
      "Epoch 86/124\n",
      "50/50 [==============================] - 0s 3ms/step - loss: 4.1203 - accuracy: 0.6834 - val_loss: 4.1394 - val_accuracy: 0.6761\n",
      "Epoch 87/124\n",
      "50/50 [==============================] - 0s 3ms/step - loss: 4.0989 - accuracy: 0.6834 - val_loss: 4.1271 - val_accuracy: 0.6761\n",
      "Epoch 88/124\n",
      "50/50 [==============================] - 0s 3ms/step - loss: 4.0788 - accuracy: 0.6834 - val_loss: 4.1034 - val_accuracy: 0.6761\n",
      "Epoch 89/124\n",
      "50/50 [==============================] - 0s 3ms/step - loss: 4.0541 - accuracy: 0.6834 - val_loss: 4.0832 - val_accuracy: 0.6761\n",
      "Epoch 90/124\n",
      "50/50 [==============================] - 0s 3ms/step - loss: 4.0337 - accuracy: 0.6834 - val_loss: 4.0688 - val_accuracy: 0.6761\n",
      "Epoch 91/124\n",
      "50/50 [==============================] - 0s 3ms/step - loss: 4.0047 - accuracy: 0.6834 - val_loss: 4.0300 - val_accuracy: 0.6761\n",
      "Epoch 92/124\n",
      "50/50 [==============================] - 0s 3ms/step - loss: 3.9814 - accuracy: 0.6834 - val_loss: 4.0101 - val_accuracy: 0.6761\n",
      "Epoch 93/124\n",
      "50/50 [==============================] - 0s 3ms/step - loss: 3.9548 - accuracy: 0.6834 - val_loss: 3.9931 - val_accuracy: 0.6761\n",
      "Epoch 94/124\n",
      "50/50 [==============================] - 0s 3ms/step - loss: 3.9252 - accuracy: 0.6834 - val_loss: 3.9621 - val_accuracy: 0.6761\n",
      "Epoch 95/124\n",
      "50/50 [==============================] - 0s 3ms/step - loss: 3.8943 - accuracy: 0.6834 - val_loss: 3.9286 - val_accuracy: 0.6761\n",
      "Epoch 96/124\n",
      "50/50 [==============================] - 0s 2ms/step - loss: 3.8645 - accuracy: 0.6834 - val_loss: 3.9014 - val_accuracy: 0.6761\n",
      "Epoch 97/124\n",
      "50/50 [==============================] - 0s 3ms/step - loss: 3.8323 - accuracy: 0.6834 - val_loss: 3.8703 - val_accuracy: 0.6761\n",
      "Epoch 98/124\n",
      "50/50 [==============================] - 0s 3ms/step - loss: 3.7995 - accuracy: 0.6834 - val_loss: 3.8390 - val_accuracy: 0.6761\n",
      "Epoch 99/124\n",
      "50/50 [==============================] - 0s 3ms/step - loss: 3.7678 - accuracy: 0.6834 - val_loss: 3.8046 - val_accuracy: 0.6761\n",
      "Epoch 100/124\n",
      "50/50 [==============================] - 0s 2ms/step - loss: 3.7306 - accuracy: 0.6834 - val_loss: 3.7724 - val_accuracy: 0.6761\n",
      "Epoch 101/124\n",
      "50/50 [==============================] - 0s 3ms/step - loss: 3.6971 - accuracy: 0.6834 - val_loss: 3.7497 - val_accuracy: 0.6761\n",
      "Epoch 102/124\n",
      "50/50 [==============================] - 0s 3ms/step - loss: 3.6614 - accuracy: 0.6834 - val_loss: 3.7064 - val_accuracy: 0.6761\n",
      "Epoch 103/124\n",
      "50/50 [==============================] - 0s 3ms/step - loss: 3.6242 - accuracy: 0.6834 - val_loss: 3.6769 - val_accuracy: 0.6761\n",
      "Epoch 104/124\n",
      "50/50 [==============================] - 0s 3ms/step - loss: 3.5896 - accuracy: 0.6834 - val_loss: 3.6374 - val_accuracy: 0.6761\n",
      "Epoch 105/124\n",
      "50/50 [==============================] - 0s 3ms/step - loss: 3.5506 - accuracy: 0.6834 - val_loss: 3.6033 - val_accuracy: 0.6761\n",
      "Epoch 106/124\n",
      "50/50 [==============================] - 0s 3ms/step - loss: 3.5167 - accuracy: 0.6834 - val_loss: 3.5715 - val_accuracy: 0.6761\n",
      "Epoch 107/124\n",
      "50/50 [==============================] - 0s 3ms/step - loss: 3.4796 - accuracy: 0.6834 - val_loss: 3.5473 - val_accuracy: 0.6761\n",
      "Epoch 108/124\n",
      "50/50 [==============================] - 0s 2ms/step - loss: 3.4451 - accuracy: 0.6834 - val_loss: 3.5019 - val_accuracy: 0.6761\n",
      "Epoch 109/124\n",
      "50/50 [==============================] - 0s 3ms/step - loss: 3.4106 - accuracy: 0.6834 - val_loss: 3.4822 - val_accuracy: 0.6761\n",
      "Epoch 110/124\n",
      "50/50 [==============================] - 0s 3ms/step - loss: 3.3843 - accuracy: 0.6834 - val_loss: 3.4432 - val_accuracy: 0.6761\n",
      "Epoch 111/124\n",
      "50/50 [==============================] - 0s 2ms/step - loss: 3.3443 - accuracy: 0.6834 - val_loss: 3.4221 - val_accuracy: 0.6761\n",
      "Epoch 112/124\n",
      "50/50 [==============================] - 0s 3ms/step - loss: 3.3114 - accuracy: 0.6834 - val_loss: 3.3807 - val_accuracy: 0.6761\n",
      "Epoch 113/124\n",
      "50/50 [==============================] - 0s 3ms/step - loss: 3.2854 - accuracy: 0.6834 - val_loss: 3.3531 - val_accuracy: 0.6761\n",
      "Epoch 114/124\n",
      "50/50 [==============================] - 0s 3ms/step - loss: 3.2554 - accuracy: 0.6834 - val_loss: 3.3259 - val_accuracy: 0.6761\n",
      "Epoch 115/124\n",
      "50/50 [==============================] - 0s 2ms/step - loss: 3.2277 - accuracy: 0.6834 - val_loss: 3.3042 - val_accuracy: 0.6761\n",
      "Epoch 116/124\n",
      "50/50 [==============================] - 0s 3ms/step - loss: 3.2079 - accuracy: 0.6834 - val_loss: 3.2785 - val_accuracy: 0.6761\n",
      "Epoch 117/124\n",
      "50/50 [==============================] - 0s 3ms/step - loss: 3.1804 - accuracy: 0.6834 - val_loss: 3.2682 - val_accuracy: 0.6761\n",
      "Epoch 118/124\n",
      "50/50 [==============================] - 0s 2ms/step - loss: 3.1592 - accuracy: 0.6834 - val_loss: 3.2456 - val_accuracy: 0.6761\n",
      "Epoch 119/124\n",
      "50/50 [==============================] - 0s 3ms/step - loss: 3.1376 - accuracy: 0.6834 - val_loss: 3.2278 - val_accuracy: 0.6761\n",
      "Epoch 120/124\n",
      "50/50 [==============================] - 0s 3ms/step - loss: 3.1194 - accuracy: 0.6834 - val_loss: 3.2165 - val_accuracy: 0.6761\n",
      "Epoch 121/124\n",
      "50/50 [==============================] - 0s 3ms/step - loss: 3.1028 - accuracy: 0.6834 - val_loss: 3.2130 - val_accuracy: 0.6761\n",
      "Epoch 122/124\n",
      "50/50 [==============================] - 0s 4ms/step - loss: 3.0899 - accuracy: 0.6834 - val_loss: 3.1866 - val_accuracy: 0.6761\n",
      "Epoch 123/124\n",
      "50/50 [==============================] - 0s 3ms/step - loss: 3.0758 - accuracy: 0.6834 - val_loss: 3.1726 - val_accuracy: 0.6761\n",
      "Epoch 124/124\n",
      "50/50 [==============================] - 0s 2ms/step - loss: 3.0638 - accuracy: 0.6834 - val_loss: 3.1743 - val_accuracy: 0.6761\n"
     ]
    },
    {
     "data": {
      "text/plain": [
       "<keras.callbacks.History at 0x153a56d10>"
      ]
     },
     "execution_count": 50,
     "metadata": {},
     "output_type": "execute_result"
    }
   ],
   "source": [
    "model.fit(\n",
    "    X_train, y_train,\n",
    "    epochs=124,\n",
    "    validation_data=(X_test, y_test)\n",
    ")"
   ]
  },
  {
   "cell_type": "code",
   "execution_count": 51,
   "metadata": {},
   "outputs": [],
   "source": [
    "losses = pd.DataFrame(model.history.history)"
   ]
  },
  {
   "cell_type": "code",
   "execution_count": 52,
   "metadata": {},
   "outputs": [
    {
     "data": {
      "text/plain": [
       "<AxesSubplot:title={'center':'Model loss'}, xlabel='Epoch', ylabel='Loss'>"
      ]
     },
     "execution_count": 52,
     "metadata": {},
     "output_type": "execute_result"
    },
    {
     "data": {
      "image/png": "[encoded data removed]",
      "text/plain": [
       "<Figure size 720x576 with 1 Axes>"
      ]
     },
     "metadata": {
      "needs_background": "light"
     },
     "output_type": "display_data"
    }
   ],
   "source": [
    "losses[['loss', 'val_loss']].plot(figsize=(10,8), xlabel=\"Epoch\", ylabel=\"Loss\", title=\"Model loss\")"
   ]
  },
  {
   "cell_type": "code",
   "execution_count": 53,
   "metadata": {},
   "outputs": [
    {
     "name": "stdout",
     "output_type": "stream",
     "text": [
      "(176, 135)\n"
     ]
    }
   ],
   "source": [
    "preds = model.predict(X_test)\n",
    "print(preds.shape)"
   ]
  },
  {
   "cell_type": "code",
   "execution_count": 54,
   "metadata": {},
   "outputs": [],
   "source": [
    "from sklearn.metrics import mean_squared_error"
   ]
  },
  {
   "cell_type": "code",
   "execution_count": 55,
   "metadata": {},
   "outputs": [
    {
     "data": {
      "text/plain": [
       "1.7816428589114273"
      ]
     },
     "execution_count": 55,
     "metadata": {},
     "output_type": "execute_result"
    }
   ],
   "source": [
    "math.sqrt(mean_squared_error(y_test, preds))"
   ]
  },
  {
   "cell_type": "code",
   "execution_count": null,
   "metadata": {},
   "outputs": [],
   "source": []
  }
 ],
 "metadata": {
  "kernelspec": {
   "display_name": "Python 3.9.12 ('venv': venv)",
   "language": "python",
   "name": "python3"
  },
  "language_info": {
   "codemirror_mode": {
    "name": "ipython",
    "version": 3
   },
   "file_extension": ".py",
   "mimetype": "text/x-python",
   "name": "python",
   "nbconvert_exporter": "python",
   "pygments_lexer": "ipython3",
   "version": "3.9.12"
  },
  "orig_nbformat": 4,
  "vscode": {
   "interpreter": {
    "hash": "571b1ded84e4341c19ea3040f7c3ec46833648f8a4cb21723f2315671a2f5da4"
   }
  }
 },
 "nbformat": 4,
 "nbformat_minor": 2
}
